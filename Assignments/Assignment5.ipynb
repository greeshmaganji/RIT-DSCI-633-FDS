{
  "nbformat": 4,
  "nbformat_minor": 0,
  "metadata": {
    "colab": {
      "name": "Assignment5.ipynb",
      "provenance": [],
      "collapsed_sections": []
    },
    "kernelspec": {
      "name": "python3",
      "display_name": "Python 3"
    },
    "language_info": {
      "name": "python"
    }
  },
  "cells": [
    {
      "cell_type": "markdown",
      "metadata": {
        "id": "4djutJYwC7sh"
      },
      "source": [
        "**Importing libraries**"
      ]
    },
    {
      "cell_type": "code",
      "metadata": {
        "id": "auA4X5f5_6MS"
      },
      "source": [
        "#inporting general libraries\n",
        "import sys\n",
        "import os\n",
        "import tensorflow as tf\n",
        "from tensorflow import keras\n",
        "from tensorflow.keras import layers\n",
        "\n",
        "#importing matplot library\n",
        "import matplotlib.pyplot as plt\n",
        "%matplotlib inline"
      ],
      "execution_count": null,
      "outputs": []
    },
    {
      "cell_type": "markdown",
      "metadata": {
        "id": "BKRBK5feTTBs"
      },
      "source": [
        "**Importing, Pre-processing and splitting the Data**"
      ]
    },
    {
      "cell_type": "code",
      "metadata": {
        "id": "0D3ljFa_FWtI"
      },
      "source": [
        "#importing mnist dataset from tensorflow keras\n",
        "from tensorflow.keras.datasets import mnist\n",
        "\n",
        "#loading and splitting mnist dataset into training and test data\n",
        "(x_train, y_train), (x_test, y_test) = mnist.load_data()"
      ],
      "execution_count": null,
      "outputs": []
    },
    {
      "cell_type": "code",
      "metadata": {
        "colab": {
          "base_uri": "https://localhost:8080/"
        },
        "id": "L-hYI9q2yMGO",
        "outputId": "81ec495f-be89-4977-9f5c-019eb8027f68"
      },
      "source": [
        "#Exploring the dataset\n",
        "\n",
        "print('Number of rows and columns :',x_train.shape)\n",
        "print('Data Type :',x_train.dtype)"
      ],
      "execution_count": null,
      "outputs": [
        {
          "output_type": "stream",
          "name": "stdout",
          "text": [
            "Number of rows and columns : (60000, 28, 28)\n",
            "Data Type : uint8\n"
          ]
        }
      ]
    },
    {
      "cell_type": "code",
      "metadata": {
        "colab": {
          "base_uri": "https://localhost:8080/"
        },
        "id": "K9CyPuoRORva",
        "outputId": "ab03e9b2-2665-4e5b-96e8-fdb3979b4b1d"
      },
      "source": [
        "#shaping the data \n",
        "print('Number of rows and columns :',y_train.shape)\n",
        "#shaping the data \n",
        "print('Data Type :',y_train.dtype)"
      ],
      "execution_count": null,
      "outputs": [
        {
          "output_type": "stream",
          "name": "stdout",
          "text": [
            "Number of rows and columns : (60000,)\n",
            "Data Type : uint8\n"
          ]
        }
      ]
    },
    {
      "cell_type": "code",
      "metadata": {
        "colab": {
          "base_uri": "https://localhost:8080/"
        },
        "id": "a5jFKi0ZCVxQ",
        "outputId": "4e214ac6-37c9-4de8-d834-e6b36921963a"
      },
      "source": [
        "#shaping the data \n",
        "print('Number of rows and columns :',x_test.shape)\n",
        "#shaping the data \n",
        "print('Data Type :',x_test.dtype)"
      ],
      "execution_count": null,
      "outputs": [
        {
          "output_type": "stream",
          "name": "stdout",
          "text": [
            "Number of rows and columns : (10000, 28, 28)\n",
            "Data Type : uint8\n"
          ]
        }
      ]
    },
    {
      "cell_type": "code",
      "metadata": {
        "colab": {
          "base_uri": "https://localhost:8080/"
        },
        "id": "wHPKmCwxOaRS",
        "outputId": "4205c473-80b6-42e2-c625-b9c769c690fe"
      },
      "source": [
        "#shaping the data \n",
        "print('Number of rows and columns :',y_test.shape)\n",
        "#shaping the data \n",
        "print('Data Type :',y_test.dtype)"
      ],
      "execution_count": null,
      "outputs": [
        {
          "output_type": "stream",
          "name": "stdout",
          "text": [
            "Number of rows and columns : (10000,)\n",
            "Data Type : uint8\n"
          ]
        }
      ]
    },
    {
      "cell_type": "code",
      "metadata": {
        "colab": {
          "base_uri": "https://localhost:8080/"
        },
        "id": "EysmmxT6U7fJ",
        "outputId": "3dd7b3da-971c-406f-c8d6-eaad97445580"
      },
      "source": [
        "print(x_train[5])"
      ],
      "execution_count": null,
      "outputs": [
        {
          "output_type": "stream",
          "name": "stdout",
          "text": [
            "[[  0   0   0   0   0   0   0   0   0   0   0   0   0   0   0   0   0   0\n",
            "    0   0   0   0   0   0   0   0   0   0]\n",
            " [  0   0   0   0   0   0   0   0   0   0   0   0   0   0   0   0   0   0\n",
            "    0   0   0   0   0   0   0   0   0   0]\n",
            " [  0   0   0   0   0   0   0   0   0   0   0   0   0   0   0   0   0   0\n",
            "    0   0   0   0   0   0   0   0   0   0]\n",
            " [  0   0   0   0   0   0   0   0   0   0   0   0   0   0   0   0   0   0\n",
            "    0   0   0   0   0   0   0   0   0   0]\n",
            " [  0   0   0   0   0   0   0   0   0   0   0   0   0   0   0   0   0   0\n",
            "    0   0   0   0   0   0   0   0   0   0]\n",
            " [  0   0   0   0   0   0   0   0   0   0   0   0   0   0   0  13  25 100\n",
            "  122   7   0   0   0   0   0   0   0   0]\n",
            " [  0   0   0   0   0   0   0   0   0   0   0   0   0  33 151 208 252 252\n",
            "  252 146   0   0   0   0   0   0   0   0]\n",
            " [  0   0   0   0   0   0   0   0   0   0   0  40 152 244 252 253 224 211\n",
            "  252 232  40   0   0   0   0   0   0   0]\n",
            " [  0   0   0   0   0   0   0   0   0  15 152 239 252 252 252 216  31  37\n",
            "  252 252  60   0   0   0   0   0   0   0]\n",
            " [  0   0   0   0   0   0   0   0   0  96 252 252 252 252 217  29   0  37\n",
            "  252 252  60   0   0   0   0   0   0   0]\n",
            " [  0   0   0   0   0   0   0   0   0 181 252 252 220 167  30   0   0  77\n",
            "  252 252  60   0   0   0   0   0   0   0]\n",
            " [  0   0   0   0   0   0   0   0   0  26 128  58  22   0   0   0   0 100\n",
            "  252 252  60   0   0   0   0   0   0   0]\n",
            " [  0   0   0   0   0   0   0   0   0   0   0   0   0   0   0   0   0 157\n",
            "  252 252  60   0   0   0   0   0   0   0]\n",
            " [  0   0   0   0   0   0   0   0   0   0   0   0   0 110 121 122 121 202\n",
            "  252 194   3   0   0   0   0   0   0   0]\n",
            " [  0   0   0   0   0   0   0   0   0   0  10  53 179 253 253 255 253 253\n",
            "  228  35   0   0   0   0   0   0   0   0]\n",
            " [  0   0   0   0   0   0   0   0   5  54 227 252 243 228 170 242 252 252\n",
            "  231 117   6   0   0   0   0   0   0   0]\n",
            " [  0   0   0   0   0   0   0   6  78 252 252 125  59   0  18 208 252 252\n",
            "  252 252  87   7   0   0   0   0   0   0]\n",
            " [  0   0   0   0   0   0   5 135 252 252 180  16   0  21 203 253 247 129\n",
            "  173 252 252 184  66  49  49   0   0   0]\n",
            " [  0   0   0   0   0   3 136 252 241 106  17   0  53 200 252 216  65   0\n",
            "   14  72 163 241 252 252 223   0   0   0]\n",
            " [  0   0   0   0   0 105 252 242  88  18  73 170 244 252 126  29   0   0\n",
            "    0   0   0  89 180 180  37   0   0   0]\n",
            " [  0   0   0   0   0 231 252 245 205 216 252 252 252 124   3   0   0   0\n",
            "    0   0   0   0   0   0   0   0   0   0]\n",
            " [  0   0   0   0   0 207 252 252 252 252 178 116  36   4   0   0   0   0\n",
            "    0   0   0   0   0   0   0   0   0   0]\n",
            " [  0   0   0   0   0  13  93 143 121  23   6   0   0   0   0   0   0   0\n",
            "    0   0   0   0   0   0   0   0   0   0]\n",
            " [  0   0   0   0   0   0   0   0   0   0   0   0   0   0   0   0   0   0\n",
            "    0   0   0   0   0   0   0   0   0   0]\n",
            " [  0   0   0   0   0   0   0   0   0   0   0   0   0   0   0   0   0   0\n",
            "    0   0   0   0   0   0   0   0   0   0]\n",
            " [  0   0   0   0   0   0   0   0   0   0   0   0   0   0   0   0   0   0\n",
            "    0   0   0   0   0   0   0   0   0   0]\n",
            " [  0   0   0   0   0   0   0   0   0   0   0   0   0   0   0   0   0   0\n",
            "    0   0   0   0   0   0   0   0   0   0]\n",
            " [  0   0   0   0   0   0   0   0   0   0   0   0   0   0   0   0   0   0\n",
            "    0   0   0   0   0   0   0   0   0   0]]\n"
          ]
        }
      ]
    },
    {
      "cell_type": "code",
      "metadata": {
        "colab": {
          "base_uri": "https://localhost:8080/",
          "height": 279
        },
        "id": "vdyaUfULOtQa",
        "outputId": "534c4fd7-fdd6-49b5-b2dd-c392319263f8"
      },
      "source": [
        "plt.imshow(x_train[5])"
      ],
      "execution_count": null,
      "outputs": [
        {
          "output_type": "execute_result",
          "data": {
            "text/plain": [
              "<matplotlib.image.AxesImage at 0x7f459b6c8c50>"
            ]
          },
          "metadata": {},
          "execution_count": 58
        },
        {
          "output_type": "display_data",
          "data": {
            "image/png": "[encoded data removed]",
            "text/plain": [
              "<Figure size 432x288 with 1 Axes>"
            ]
          },
          "metadata": {
            "needs_background": "light"
          }
        }
      ]
    },
    {
      "cell_type": "code",
      "metadata": {
        "colab": {
          "base_uri": "https://localhost:8080/"
        },
        "id": "gU_NIgUTW5FU",
        "outputId": "271c2325-3e59-4f20-fe5f-43d42cebb270"
      },
      "source": [
        "print(y_train[5])"
      ],
      "execution_count": null,
      "outputs": [
        {
          "output_type": "stream",
          "name": "stdout",
          "text": [
            "2\n"
          ]
        }
      ]
    },
    {
      "cell_type": "code",
      "metadata": {
        "id": "I5M-ZrWaVlUt"
      },
      "source": [
        ""
      ],
      "execution_count": null,
      "outputs": []
    },
    {
      "cell_type": "code",
      "metadata": {
        "id": "Hmql0SZ7VgXw"
      },
      "source": [
        ""
      ],
      "execution_count": null,
      "outputs": []
    },
    {
      "cell_type": "code",
      "metadata": {
        "id": "geQIO9hvVisE"
      },
      "source": [
        ""
      ],
      "execution_count": null,
      "outputs": []
    },
    {
      "cell_type": "markdown",
      "metadata": {
        "id": "Yonj3E1bdrGY"
      },
      "source": [
        "**Building the Model**"
      ]
    },
    {
      "cell_type": "code",
      "metadata": {
        "id": "QUmgd3d8fU_R"
      },
      "source": [
        "#Optimizing using Exponential Learning Rate\n",
        "initial_learning_rate = 0.1\n",
        "lr_schedule = tf.keras.optimizers.schedules.ExponentialDecay(\n",
        "    initial_learning_rate,\n",
        "    decay_steps=100000,\n",
        "    decay_rate=0.96,\n",
        "    staircase=False)"
      ],
      "execution_count": null,
      "outputs": []
    },
    {
      "cell_type": "code",
      "metadata": {
        "id": "9zmlLk5hetpK"
      },
      "source": [
        "#Building model \n",
        "#Stacking the Neural Network layers using Sequential\n",
        "model1 = tf.keras.Sequential()\n",
        "\n",
        "#Flattening the data in order to pass through the network\n",
        "model1.add(tf.keras.layers.Flatten(input_shape=(28, 28)))\n",
        "\n",
        "#Adding a layer of 128 nodes with Sigmoid Activation Function \n",
        "model1.add(tf.keras.layers.Dense(128, activation='sigmoid'))\n",
        "\n",
        "#Adding a layer of 128 nodes with Rectified Linear Unit Activation Function \n",
        "model1.add(tf.keras.layers.Dense(128, activation='relu'))\n",
        "\n",
        "#Output layer with 10 nodes of Softmax Activation Function\n",
        "model1.add(tf.keras.layers.Dense(10, activation='softmax'))"
      ],
      "execution_count": null,
      "outputs": []
    },
    {
      "cell_type": "code",
      "metadata": {
        "id": "_Mn7MH_Fdso_"
      },
      "source": [
        "#Compiling the Model Using ADAM Optimizer\n",
        "\n",
        "model1.compile(optimizer ='adam',loss='sparse_categorical_crossentropy',\n",
        "metrics=['accuracy'])"
      ],
      "execution_count": null,
      "outputs": []
    },
    {
      "cell_type": "code",
      "metadata": {
        "colab": {
          "base_uri": "https://localhost:8080/"
        },
        "id": "FZNStrm5aNqG",
        "outputId": "727ea0d5-7a53-45f7-d7da-f8d307bc1bf0"
      },
      "source": [
        "#Using EarlyStopping Function to stop when the model improves\n",
        "\n",
        "early_Stop = tf.keras.callbacks.EarlyStopping(monitor='accuracy', patience=3, restore_best_weights=True)\n",
        "#check_point= tf.keras.callbacks.ModelCheckpoint('model1.h5', monitor='accuracy', save_best_only=False)\n",
        "check_point=tf.keras.callbacks.ModelCheckpoint(\n",
        "    'model1.h5',\n",
        "    monitor=\"accuracy\",\n",
        "    verbose=0,\n",
        "    save_best_only=False,\n",
        "    mode=\"auto\",\n",
        "    save_freq=\"epoch\"\n",
        ")\n",
        "#Fitting the model with ADAM Optimizer\n",
        "model1.fit(x_train, y_train,epochs=30,validation_split=0.1, callbacks =[early_Stop, check_point])"
      ],
      "execution_count": null,
      "outputs": [
        {
          "output_type": "stream",
          "name": "stdout",
          "text": [
            "Epoch 1/30\n",
            "1688/1688 [==============================] - 5s 3ms/step - loss: 0.1691 - accuracy: 0.9468 - val_loss: 0.1563 - val_accuracy: 0.9522\n",
            "Epoch 2/30\n",
            "1688/1688 [==============================] - 5s 3ms/step - loss: 0.1705 - accuracy: 0.9449 - val_loss: 0.1502 - val_accuracy: 0.9535\n",
            "Epoch 3/30\n",
            "1688/1688 [==============================] - 5s 3ms/step - loss: 0.1707 - accuracy: 0.9465 - val_loss: 0.1655 - val_accuracy: 0.9488\n",
            "Epoch 4/30\n",
            "1688/1688 [==============================] - 5s 3ms/step - loss: 0.1686 - accuracy: 0.9464 - val_loss: 0.1559 - val_accuracy: 0.9520\n"
          ]
        },
        {
          "output_type": "execute_result",
          "data": {
            "text/plain": [
              "<keras.callbacks.History at 0x7f459b337850>"
            ]
          },
          "metadata": {},
          "execution_count": 72
        }
      ]
    },
    {
      "cell_type": "code",
      "metadata": {
        "id": "RGagpTGdOEjn"
      },
      "source": [
        ""
      ],
      "execution_count": null,
      "outputs": []
    },
    {
      "cell_type": "code",
      "metadata": {
        "id": "b7hT4g8yaNkp",
        "colab": {
          "base_uri": "https://localhost:8080/"
        },
        "outputId": "ed6823e4-6a75-41b6-b85f-182a7f48de71"
      },
      "source": [
        "#Evaluating the model and calculating Loss and Accuracy\n",
        "loss, acc = model1.evaluate(x_test, y_test)\n",
        "print('Loss : ',loss)\n",
        "print('Accuracy : ',acc)"
      ],
      "execution_count": null,
      "outputs": [
        {
          "output_type": "stream",
          "name": "stdout",
          "text": [
            "313/313 [==============================] - 1s 2ms/step - loss: 0.1853 - accuracy: 0.9433\n",
            "Loss :  0.1852678656578064\n",
            "Accuracy :  0.9433000087738037\n"
          ]
        }
      ]
    },
    {
      "cell_type": "code",
      "metadata": {
        "id": "eLCd5eI8QfiG"
      },
      "source": [
        ""
      ],
      "execution_count": null,
      "outputs": []
    },
    {
      "cell_type": "code",
      "metadata": {
        "id": "L6Pn5CbNQffY"
      },
      "source": [
        ""
      ],
      "execution_count": null,
      "outputs": []
    },
    {
      "cell_type": "code",
      "metadata": {
        "id": "iGHbkqnWQfc5"
      },
      "source": [
        "#Building model \n",
        "#Stacking the Neural Network layers using Sequential\n",
        "model2 = tf.keras.Sequential()\n",
        "\n",
        "#Flattening the data in order to pass through the network\n",
        "model2.add(tf.keras.layers.Flatten(input_shape=(28, 28)))\n",
        "\n",
        "#Adding a layer of 128 nodes with Sigmoid Activation Function \n",
        "model2.add(tf.keras.layers.Dense(128, activation='sigmoid'))\n",
        "\n",
        "#Adding a layer of 128 nodes with Rectified Linear Unit Activation Function \n",
        "model2.add(tf.keras.layers.Dense(128, activation='relu'))\n",
        "\n",
        "#Output layer with 10 nodes of Softmax Activation Function\n",
        "model2.add(tf.keras.layers.Dense(10, activation='softmax'))"
      ],
      "execution_count": null,
      "outputs": []
    },
    {
      "cell_type": "code",
      "metadata": {
        "id": "7dtwJpm4Qfaa"
      },
      "source": [
        "\n",
        "#Compiling the Model Using SGD Optimizer\n",
        "model2.compile(optimizer=tf.keras.optimizers.SGD(learning_rate=lr_schedule),\n",
        "              loss='sparse_categorical_crossentropy',\n",
        "              metrics=['accuracy'])"
      ],
      "execution_count": null,
      "outputs": []
    },
    {
      "cell_type": "code",
      "metadata": {
        "id": "nqiPWZhV13BR"
      },
      "source": [
        "#Creating Earlystop and model checkpoint\n",
        "earlyStop2 = tf.keras.callbacks.EarlyStopping(monitor='accuracy', patience=4, restore_best_weights=True)\n",
        "#checkpoint= tf.keras.callbacks.ModelCheckpoint('model2.h5', monitor='loss', save_best_only=False)\n",
        "checkpoint2=tf.keras.callbacks.ModelCheckpoint(\n",
        "    'model2.h5',\n",
        "    monitor=\"accuracy\",\n",
        "    verbose=0,\n",
        "    save_best_only=False,\n",
        "    mode=\"auto\",\n",
        "    save_freq=\"epoch\"\n",
        ")"
      ],
      "execution_count": null,
      "outputs": []
    },
    {
      "cell_type": "code",
      "metadata": {
        "colab": {
          "base_uri": "https://localhost:8080/"
        },
        "id": "1-Z-BMHWQ8TW",
        "outputId": "ec3e66ee-ea1b-421d-cfb9-9795b51276e1"
      },
      "source": [
        "#Fitting the model with SGD Optimizer\n",
        "model2.fit(x_train, y_train,epochs=30,validation_split=0.1, callbacks =[earlyStop2, checkpoint2])"
      ],
      "execution_count": null,
      "outputs": [
        {
          "output_type": "stream",
          "name": "stdout",
          "text": [
            "Epoch 1/30\n",
            "1688/1688 [==============================] - 4s 2ms/step - loss: 0.4760 - accuracy: 0.8395 - val_loss: 0.3955 - val_accuracy: 0.8710\n",
            "Epoch 2/30\n",
            "1688/1688 [==============================] - 4s 2ms/step - loss: 0.4764 - accuracy: 0.8423 - val_loss: 0.4723 - val_accuracy: 0.8397\n",
            "Epoch 3/30\n",
            "1688/1688 [==============================] - 4s 2ms/step - loss: 0.4785 - accuracy: 0.8394 - val_loss: 0.4256 - val_accuracy: 0.8622\n",
            "Epoch 4/30\n",
            "1688/1688 [==============================] - 4s 2ms/step - loss: 0.4681 - accuracy: 0.8468 - val_loss: 0.3874 - val_accuracy: 0.8750\n",
            "Epoch 5/30\n",
            "1688/1688 [==============================] - 4s 2ms/step - loss: 0.4919 - accuracy: 0.8377 - val_loss: 0.4663 - val_accuracy: 0.8398\n",
            "Epoch 6/30\n",
            "1688/1688 [==============================] - 4s 2ms/step - loss: 0.5354 - accuracy: 0.8194 - val_loss: 0.4503 - val_accuracy: 0.8433\n",
            "Epoch 7/30\n",
            "1688/1688 [==============================] - 4s 2ms/step - loss: 0.4853 - accuracy: 0.8383 - val_loss: 0.4512 - val_accuracy: 0.8560\n",
            "Epoch 8/30\n",
            "1688/1688 [==============================] - 4s 2ms/step - loss: 0.5025 - accuracy: 0.8324 - val_loss: 0.4445 - val_accuracy: 0.8487\n"
          ]
        },
        {
          "output_type": "execute_result",
          "data": {
            "text/plain": [
              "<keras.callbacks.History at 0x7f459b2d7990>"
            ]
          },
          "metadata": {},
          "execution_count": 92
        }
      ]
    },
    {
      "cell_type": "code",
      "metadata": {
        "id": "qr_rGsJHQfXs"
      },
      "source": [
        ""
      ],
      "execution_count": null,
      "outputs": []
    },
    {
      "cell_type": "code",
      "metadata": {
        "colab": {
          "base_uri": "https://localhost:8080/"
        },
        "id": "oPgn7FotQfU9",
        "outputId": "91867da8-2bea-433c-fa19-8526f1b4c2d2"
      },
      "source": [
        "#Evaluating the model and calculating Loss and Accuracy \n",
        "loss, acc = model2.evaluate(x_test, y_test)\n",
        "print('Loss : ',loss)\n",
        "print('Accuracy : ',acc)"
      ],
      "execution_count": null,
      "outputs": [
        {
          "output_type": "stream",
          "name": "stdout",
          "text": [
            "313/313 [==============================] - 0s 1ms/step - loss: 0.4574 - accuracy: 0.8491\n",
            "Loss :  0.4574217200279236\n",
            "Accuracy :  0.8490999937057495\n"
          ]
        }
      ]
    },
    {
      "cell_type": "code",
      "metadata": {
        "id": "_W1Zlo_0QfSH"
      },
      "source": [
        ""
      ],
      "execution_count": null,
      "outputs": []
    },
    {
      "cell_type": "code",
      "metadata": {
        "id": "z5fVx5E2AMcM"
      },
      "source": [
        "# initial_learning_rate = 0.1\n",
        "# decay_steps=100000\n",
        "# decay_rate=0.96\n",
        "#expdec=tf.keras.optimizers.schedules.ExponentialDecay(\n",
        "#    initial_learning_rate = 0.1, decay_steps=100000, decay_rate=0.96, staircase=False, name=None\n",
        "#)"
      ],
      "execution_count": null,
      "outputs": []
    },
    {
      "cell_type": "code",
      "metadata": {
        "id": "n8bK8WY-AMp1"
      },
      "source": [
        "# model.compile(optimizer=tf.keras.optimizers.SGD(learning_rate=expdec),\n",
        "#               loss='sparse_categorical_crossentropy',\n",
        "#               metrics=['accuracy'])"
      ],
      "execution_count": null,
      "outputs": []
    },
    {
      "cell_type": "code",
      "metadata": {
        "id": "ZT5AMCKuxKGJ"
      },
      "source": [
        ""
      ],
      "execution_count": null,
      "outputs": []
    },
    {
      "cell_type": "code",
      "metadata": {
        "id": "6DogB7A3AEM2"
      },
      "source": [
        ""
      ],
      "execution_count": null,
      "outputs": []
    },
    {
      "cell_type": "code",
      "metadata": {
        "id": "dY8m4vlGAIvS"
      },
      "source": [
        ""
      ],
      "execution_count": null,
      "outputs": []
    }
  ]
}